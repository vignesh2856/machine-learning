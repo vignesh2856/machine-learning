{
  "nbformat": 4,
  "nbformat_minor": 0,
  "metadata": {
    "colab": {
      "provenance": []
    },
    "kernelspec": {
      "name": "python3",
      "display_name": "Python 3"
    },
    "language_info": {
      "name": "python"
    }
  },
  "cells": [
    {
      "cell_type": "code",
      "execution_count": 2,
      "metadata": {
        "colab": {
          "base_uri": "https://localhost:8080/"
        },
        "id": "dgXNEQY-MV8F",
        "outputId": "296c441c-26af-47bd-a7bc-56103c8ee916"
      },
      "outputs": [
        {
          "output_type": "stream",
          "name": "stdout",
          "text": [
            "X_Train Shape: (112, 4)\n",
            "y_Train Shape: (112,)\n",
            "prediction: [0]\n",
            "predicted target name: ['setosa']\n",
            "test set prediction: [2 1 0 2 0 2 0 1 1 1 2 1 1 1 1 0 1 1 0 0 2 1 0 0 2 0 0 1 1 0 2 1 0 2 2 1 0\n",
            " 2]\n",
            "KNN (in %): 97.36842105263158\n"
          ]
        }
      ],
      "source": [
        "from sklearn.datasets import load_iris\n",
        "from sklearn.neighbors import KNeighborsClassifier\n",
        "from sklearn.model_selection import train_test_split\n",
        "from sklearn import metrics\n",
        "from sklearn.metrics import confusion_matrix\n",
        "iris_dataset = load_iris()\n",
        "X_train,X_test,y_train,y_test=train_test_split(iris_dataset['data'],iris_dataset['target'],random_state=0)\n",
        "print(\"X_Train Shape:\",X_train.shape)\n",
        "print(\"y_Train Shape:\",y_train.shape)\n",
        "knn=KNeighborsClassifier(n_neighbors=1)\n",
        "knn.fit(X_train,y_train)\n",
        "prediction=knn.predict([[4.5,1.2,1.3,1.9]])\n",
        "print(\"prediction:\",prediction)\n",
        "print(\"predicted target name:\",iris_dataset['target_names'][prediction])\n",
        "y_pred=knn.predict(X_test)\n",
        "print(\"test set prediction:\",y_pred)\n",
        "print(\"KNN (in %):\", metrics.accuracy_score(y_test,y_pred)*100)"
      ]
    }
  ]
}